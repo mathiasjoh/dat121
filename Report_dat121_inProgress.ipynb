{
 "cells": [
  {
   "cell_type": "markdown",
   "metadata": {},
   "source": [
    "# Report DAT121"
   ]
  },
  {
   "cell_type": "markdown",
   "metadata": {},
   "source": [
    "# Content\n",
    "\n",
    "1. Introduction\n",
    "2. Method\n",
    "3. Results\n",
    "4. Discussion"
   ]
  },
  {
   "cell_type": "markdown",
   "metadata": {},
   "source": [
    "# 1. Introduction\n",
    "\n",
    "Write more here\n",
    "\n",
    "Crimes in Boston is a dataset containing the data of the crimes occurred in Boston from the middle of 2015 to the middle of 2019. The data does not only include felony cases by also minor incidents like property lost. The total amount of incident is 282 517 and 17 different variables is usually connected with each incident. The type of crime, date and time, location and if shooting occurred are some of the variables captured in the data.\n",
    "\n",
    "Since the purpose of this data inspection is to extract information about boston and its offence-patterns and information, the following part is done to get a general overview of the data. \n",
    "The plots presented are extracted to gain information about the dataset in addition to getting a better understanding of Boston offences. Therefore the plots and graphs will be further commented under each section, in the light of what useful knowlegde there is to be found here.\n",
    "\n",
    "#### The following plots are used to find answers to the following questions\n",
    "##### Data related: \n",
    "* Can the data be used to find usefull information about developement of reported crimes in Boston?\n",
    "* Is the data available for visualization without any formatting?\n",
    "\n",
    "##### Content related:\n",
    "* What crime is the most common?\n",
    "* Which areas has the most crime incidents?\n",
    "* Are the different crimes more thypical in specific areas?\n",
    "* Does the number of crimes depend on time, day og place?\n",
    "* Are there some specific patterns or correlations worth showing?\n",
    "\n",
    "#### Overview of plots and graphs \n",
    "* Hourly distribution of crimes through a day\n",
    "* Distribution of crimes through a week\n",
    "* Month wise crime distribution\n",
    "* Top ten crime types\n",
    "* Year wise # of crimes\n",
    "* A visual map of Boston with a descriptive layer of crime-info\n",
    "* Streets with most crime-incidents\n",
    "\n",
    "The preprocessing of the data will be further described in the section of Data Handling. (see 2. Handle data and remove non-valid inputs).\n"
   ]
  },
  {
   "attachments": {},
   "cell_type": "markdown",
   "metadata": {},
   "source": [
    "## 3. Results\n",
    "* Motor vehicle accident response was found to be the most commonly reported incident in Boston during 2015-2019\n",
    "* The month of February was found to be most safest month of the year with least number of reporting's and July was the least safest.\n",
    "* Sunday was found to be the safest day of the week.\n",
    "* Crime reporting are highest at evening 17:00 hrs and lowest at morning 4:00 - 5:00 hrs.\n",
    "* Analysis suggests the prime locations of incident reporting.\n",
    "* Finding out why most reporting are in July might serve as an added benefit in efficient crime check\n",
    "* Crime reporting are highest in the evenings suggesting that reporting are more common when people are out.\n",
    "* Analysis of prime locations of reporting enables the department and officials to keep a check on the areas and enhance safety .\n",
    "* Holidays show a specific lowered trend in crime reporting which raises questions about the correlation with other factors. \n"
   ]
  },
  {
   "cell_type": "markdown",
   "metadata": {},
   "source": [
    "\n",
    "## 4. Discussion and review of the work done\n",
    "----- \n",
    "The data used in this work is collected by the Crime Incident Report system provided by Boston Police Department. There is therefore high confidence in the data contained, and it is not imputed any new values to the dataset in the means of handling NAN-values in the set. For the goal of this assignment, which was to inspect the dataset with a general approach, there was no need to calculate and handle missing data by using imputing-strategies of mean/meadian etc. The approach when dealing with missing data here, has been to discard the columns with missing values for the relevant graph or plot.\n",
    "One could argue that this leads to loss of valuable data, but the inspection and plotting done here is for getting an overview using alot of datapoints compared to the entities with missing values. For the same reason, the very few outlier-alike values in the datapoints where included in the plots. The conclusions and results made in this assignment should still be read with this in mind, and adjustments may be nescessary for specific tasks in future work.\n",
    "\n",
    "The inspection and visualization done in this project can be seen as a good place to start for further work on the Bostin Crime Dncident Data. The dataset mostly containes time and place-descriptive information. Therefore it was natural to start visualizing developement of incidents over a period of time. \n",
    "\n",
    "The knowlegde obtained from datainspection is a valuable asset when providing services such as public help or when handling a finite amount of resources (tax income). Knowing what a thypical day, week, month or year looks like can be benefitial when trying to pinpoint how to prioritize resources and workforce to reduce bad outcomes from police responses. Further work on this assignment could include trying to make good predictions of what kind of incidences will happen at a given time, and where. When using different methods for machine learning, one should also consider how to handle categorical data in dataset for optimizig the results, \n",
    "\n"
   ]
  }
 ],
 "metadata": {
  "kernelspec": {
   "display_name": "Python 3",
   "language": "python",
   "name": "python3"
  },
  "language_info": {
   "codemirror_mode": {
    "name": "ipython",
    "version": 3
   },
   "file_extension": ".py",
   "mimetype": "text/x-python",
   "name": "python",
   "nbconvert_exporter": "python",
   "pygments_lexer": "ipython3",
   "version": "3.6.8"
  }
 },
 "nbformat": 4,
 "nbformat_minor": 2
}
