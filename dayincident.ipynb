{
 "cells": [
  {
   "cell_type": "markdown",
   "metadata": {},
   "source": [
    "## Incident frequency variation over days\n",
    "\n",
    "We examine total number of crimes happening on each day of the week in Boson area (2015- 2019) The following trends are observed:\n",
    "\n",
    "\n",
    "\n"
   ]
  },
  {
   "cell_type": "code",
   "execution_count": 1,
   "metadata": {},
   "outputs": [],
   "source": [
    "#import modules\n",
    "import pandas as pd  \n",
    "import matplotlib.pyplot as plt\n",
    "data = pd.read_csv(\"crime.csv\",encoding = \"ISO-8859-1\") \n",
    "\n",
    "\n"
   ]
  },
  {
   "cell_type": "code",
   "execution_count": 12,
   "metadata": {},
   "outputs": [
    {
     "data": {
      "text/plain": [
       "Monday       59127\n",
       "Tuesday      59897\n",
       "Wednesday    60763\n",
       "Thursday     60429\n",
       "Friday       62729\n",
       "Saturday     58089\n",
       "Sunday       52098\n",
       "Name: DAY_OF_WEEK, dtype: int64"
      ]
     },
     "execution_count": 12,
     "metadata": {},
     "output_type": "execute_result"
    }
   ],
   "source": [
    "cats = ['Monday','Tuesday','Wednesday','Thursday','Friday','Saturday', 'Sunday']\n",
    "data['DAY_OF_WEEK']= pd.Categorical(data['DAY_OF_WEEK'],categories =cats, ordered= True)\n",
    "crashes_by_day = data['DAY_OF_WEEK'].value_counts()\n",
    "days=crashes_by_day.sort_index()\n",
    "totaldays=days.sum()\n",
    "dayratio=(days/totaldays)*100\n",
    "dayratio\n",
    "days\n",
    "\n"
   ]
  },
  {
   "cell_type": "markdown",
   "metadata": {},
   "source": [
    "### Methods\n",
    "\n",
    "The pandas libraries for python are used to import the data set as a data frame and perform the analysis.A pandas series is created with the the data in \"DAY_OF_WEEK\" alone for this specific analysis.The pandas feature \"Categorical\" is used to sort the day in the order of days of week for a better visualisation of the reults as bar chart and carry out the analysis in an effective manner.The cummulative sum of days are convereted to percentage for a better representation as a bar chart .Bar chart is plotted using the plot function of matplotlib library."
   ]
  },
  {
   "cell_type": "code",
   "execution_count": 9,
   "metadata": {},
   "outputs": [
    {
     "data": {
      "text/plain": [
       "Text(0.5, 0, 'Days')"
      ]
     },
     "execution_count": 9,
     "metadata": {},
     "output_type": "execute_result"
    },
    {
     "data": {
      "image/png": "[encoded data removed]",
      "text/plain": [
       "<Figure size 720x504 with 1 Axes>"
      ]
     },
     "metadata": {
      "needs_background": "light"
     },
     "output_type": "display_data"
    }
   ],
   "source": [
    "days = dayratio.index\n",
    "count= dayratio.values\n",
    "\n",
    "fig, axs = plt.subplots(figsize=(10,7), sharey=True)\n",
    "#axs.set_title(\"\",loc=\"center\")\n",
    "color_palet = ['#096BBE','#009ACD','#0EBFE9','#63D1F4','#ADD8E6', \n",
    "                      '#C1F0F6','#C1F0E8']\n",
    "axs.bar(days, count,color=color_palet)\n",
    "axs.set_title(\"Incidents reported per day\",fontsize =20)\n",
    "axs.set_ylabel(\"Percentage of incidents reported\")\n",
    "axs.set_xlabel(\"Days\")\n"
   ]
  },
  {
   "cell_type": "markdown",
   "metadata": {},
   "source": [
    "### Inference and Comments\n",
    "\n",
    "The barchart represents the percentage of incidents reported during each day of the week in Boston area during (2015-2019) .The most number of incidents were found to be reported on Fridays (62729)followed by Wednesday(60763) out of 413132 total incidents reported.\n",
    "\n",
    "The reporting shows a specific trend. The incident reports which has the highest number of reportings on Friday shows a gradual decrease over the weekend , and then increase eventually to reach the highest on friday.\n",
    "\n",
    "The patterns in these trends shows that incident reportings could be in someway dependent on the holidays, and most crimes being reported on Fridays might be influenced by other external factors that should be investigated further.\n",
    "\n"
   ]
  },
  {
   "cell_type": "code",
   "execution_count": null,
   "metadata": {},
   "outputs": [],
   "source": []
  }
 ],
 "metadata": {
  "kernelspec": {
   "display_name": "Python 3",
   "language": "python",
   "name": "python3"
  },
  "language_info": {
   "codemirror_mode": {
    "name": "ipython",
    "version": 3
   },
   "file_extension": ".py",
   "mimetype": "text/x-python",
   "name": "python",
   "nbconvert_exporter": "python",
   "pygments_lexer": "ipython3",
   "version": "3.7.4"
  }
 },
 "nbformat": 4,
 "nbformat_minor": 4
}
