{
 "cells": [
  {
   "cell_type": "markdown",
   "metadata": {},
   "source": [
    "## 2.10  Crime distribution based on City districts"
   ]
  },
  {
   "cell_type": "code",
   "execution_count": null,
   "metadata": {},
   "outputs": [],
   "source": [
    "#Create Pieplot for how responses are distrobuted between the districts\n",
    "labels = data['District'].astype('category').cat.categories.tolist()\n",
    "counts = data['District'].value_counts()\n",
    "sizes = [counts[var_cat] for var_cat in labels]\n",
    "# only \"explode\" the 9nd slice (i.e. 'Roxbury')\n",
    "explode = (0, 0, 0, 0, 0, 0, 0, 0, 0.2, 0, 0 ,0)  \n",
    "fig1, ax1 = plt.subplots()\n",
    "ax1.pie(sizes, explode=explode, labels=labels, autopct='%1.1f%%',\n",
    "        shadow=True, startangle=90)# Equal aspect ratio ensures that pie is drawn as a circle\n",
    "ax1.axis('equal')  \n",
    "plt.tight_layout()\n",
    "plt.title(\"Police responses grouped by city districts\", loc=\"center\",\n",
    "          bbox={'facecolor':'0.8', 'pad':5}, position=(1.1,1))\n",
    "plt.show()"
   ]
  },
  {
   "cell_type": "markdown",
   "metadata": {},
   "source": [
    "Here we see that Roxbury with 15.6 percent is the district with the most police responses."
   ]
  },
  {
   "cell_type": "markdown",
   "metadata": {},
   "source": [
    "## 2.11 Heat Map of Crime Distribution based on streets"
   ]
  },
  {
   "cell_type": "code",
   "execution_count": null,
   "metadata": {},
   "outputs": [],
   "source": [
    "# Create basic Folium crime map\n",
    "crime_map = folium.Map(location=[42.3125,-71.0875], \n",
    "                       tiles = \"Stamen Toner\",\n",
    "                      zoom_start = 11)\n",
    "\n",
    "# Add data for heatmp \n",
    "data_heatmap = data\n",
    "data_heatmap = data[['Lat','Long']]\n",
    "data_heatmap = data.dropna(axis=0, subset=['Lat','Long'])\n",
    "data_heatmap = [[row['Lat'],row['Long']] for index, row in data_heatmap.iterrows()]\n",
    "HeatMap(data_heatmap, radius=8).add_to(crime_map)\n",
    "\n",
    "# Plot!\n",
    "crime_map"
   ]
  },
  {
   "cell_type": "markdown",
   "metadata": {},
   "source": [
    "Here we see a heatmap of police responses. The blue areas represent the lowest frequency and the red areas represents the highest frequency. We can see from the heatmap that downtown Boston is the area where the most responses happen."
   ]
  },
  {
   "cell_type": "code",
   "execution_count": null,
   "metadata": {},
   "outputs": [],
   "source": [
    "# Police response for top 50 streets\n",
    "sns.catplot(y='Street',\n",
    "           kind='count',\n",
    "            height=8, \n",
    "            aspect=1.5,\n",
    "            order=data.Street.value_counts().index[0:50],\n",
    "           data=data)"
   ]
  },
  {
   "cell_type": "markdown",
   "metadata": {},
   "source": [
    "Here we see a list of the top 50 streets where the most responses happen. Washington Street is way above the rest, this is probably because its a very long street and it goes through downtown Boston."
   ]
  },
  {
   "cell_type": "markdown",
   "metadata": {},
   "source": [
    "## 2.12 Crime map for shootings"
   ]
  },
  {
   "cell_type": "code",
   "execution_count": null,
   "metadata": {},
   "outputs": [],
   "source": [
    "# Create basic Folium crime map for shootings\n",
    "crime_map_shooting = folium.Map(location=[42.3125,-71.0875], \n",
    "                       tiles = \"Stamen Toner\",\n",
    "                      zoom_start = 11)\n",
    "\n",
    "# Add data for heatmp \n",
    "data_heatmap = data[data.Shooting != \"N\"]\n",
    "data_heatmap.shape\n",
    "data_heatmap = data[['Lat','Long']]\n",
    "data_heatmap = data.dropna(axis=0, subset=['Lat','Long'])\n",
    "data_heatmap = [[row['Lat'],row['Long']] for index, row in data_heatmap.iterrows()]\n",
    "HeatMap(data_heatmap, radius=7).add_to(crime_map_shooting)\n",
    "\n",
    "# Plot!\n",
    "crime_map_shooting"
   ]
  },
  {
   "cell_type": "markdown",
   "metadata": {},
   "source": [
    "Here we see a heatmap of the shootings in Boston, we see that the hotspots on this map are similiar to the heatmap above. This indicates that there is no clear difference between where shootings happen compared to where responses on average occur."
   ]
  },
  {
   "cell_type": "code",
   "execution_count": null,
   "metadata": {},
   "outputs": [],
   "source": [
    "# See how many percent of responds involves shootings.\n",
    "data.Shooting.describe()"
   ]
  },
  {
   "cell_type": "markdown",
   "metadata": {},
   "source": [
    "We take a look at the Shooting column to see how many of the respones was a shooting."
   ]
  },
  {
   "cell_type": "code",
   "execution_count": null,
   "metadata": {},
   "outputs": [],
   "source": [
    "# Calculate percentage of responses are shootings\n",
    "perc_shooting = 184014/184638\n",
    "1-perc_shooting"
   ]
  },
  {
   "cell_type": "markdown",
   "metadata": {},
   "source": [
    "We see that less than 0.5 % of the responses are shootings. This shows that its quite uncommon for the police officers to use their guns, even in America."
   ]
  },
  {
   "cell_type": "code",
   "execution_count": null,
   "metadata": {},
   "outputs": [],
   "source": [
    "# Plot response type related to shootings.\n",
    "data_shooting = data[data.Shooting != \"N\"]\n",
    "sns.catplot(y='Group',\n",
    "           kind='count',\n",
    "            height=8, \n",
    "            aspect=1.5,\n",
    "            order=data_shooting.Group.value_counts().index[0:10],\n",
    "           data=data_shooting)\n",
    "plt.suptitle(\"Crime related to shootings\", y=1, fontsize=15, fontweight=0, color='black', style='italic')"
   ]
  },
  {
   "cell_type": "markdown",
   "metadata": {},
   "source": [
    "Here we can see that the most common response type that involves shootings are Aggravated Assualt."
   ]
  },
  {
   "cell_type": "markdown",
   "metadata": {},
   "source": [
    "## 2.13 Specific crime trends "
   ]
  },
  {
   "cell_type": "markdown",
   "metadata": {},
   "source": [
    "We examine the crime trends of the top 5 most commonly reported incidents(Motor vehicle accident response,Larceny,Medical assistance,investigate person) over days of a week.The following trends are observed:"
   ]
  },
  {
   "cell_type": "code",
   "execution_count": 1,
   "metadata": {},
   "outputs": [],
   "source": [
    "#import modules \n",
    "import pandas as pd\n",
    "\n",
    "df= pd.read_csv(\"crime.csv\", encoding = \"ISO-8859-1\", low_memory=False)\n",
    "\n",
    "category_names =df[\"OFFENSE_CODE_GROUP\"].value_counts()\n",
    "type(category_names)\n",
    "fin=category_names.head()\n",
    "names=fin.index\n",
    "#df.isnull().sum()"
   ]
  },
  {
   "cell_type": "markdown",
   "metadata": {},
   "source": [
    "### Methods\n",
    "The pandas libraries for python are used to import the data set as a data frame and perform the analysis.A pandas series is created with the the data in \"OFFENSE_CODE_GROUP\" alone for this specific analysis.The 5 most reported incidents are selected for a better understanding of the trend of incident reported over days.The dat frame plot function is used for plotting the line graphs for comparing the trends."
   ]
  },
  {
   "cell_type": "code",
   "execution_count": 2,
   "metadata": {},
   "outputs": [],
   "source": [
    "pd.options.mode.chained_assignment = None  # default='warn'"
   ]
  },
  {
   "cell_type": "code",
   "execution_count": null,
   "metadata": {},
   "outputs": [],
   "source": [
    "#To find the number of occurence of top 5 accidents each day\n",
    "\n",
    "n=1\n",
    "bar={}\n",
    "for entry in names:\n",
    "    newdf=df[df['OFFENSE_CODE_GROUP'].str.contains(entry)]\n",
    "    newdf['DAY_OF_WEEK']=pd.Categorical(newdf['DAY_OF_WEEK'], categories=['Monday','Tuesday','Wednesday','Thursday','Friday','Saturday', 'Sunday'],\n",
    "    ordered=True)\n",
    "    crashes_by_day = newdf['DAY_OF_WEEK'].value_counts()\n",
    "    crashes_by_day=crashes_by_day.sort_index()\n",
    "    bar[entry]=crashes_by_day.values\n",
    "    n = n+1\n",
    "    \n",
    "    \n",
    "    \n",
    "\n",
    "dictdf = pd.DataFrame(bar)\n",
    "lastdictdf=dictdf.set_index(crashes_by_day.index)\n",
    "    \n",
    "accident_plot=lastdictdf.plot(kind=\"line\")\n",
    "accident_plot.set_title(\"Frequency of top 5 accidents each day\")\n",
    "accident_plot.set_xlabel(\"Days\")\n",
    "accident_plot.set_ylabel(\"Number of events reported\")\n",
    "\n",
    "#Comparison of 5 most commonly reported crimes with days."
   ]
  },
  {
   "cell_type": "markdown",
   "metadata": {},
   "source": [
    "### Inference and Comments\n",
    "There are 67 categories of crime incidents reported in Boston area .Motor vehicle accident response and larceny were the two crimes most commonly reported in Boston accounting to 81611 incidents during mid 2015 to mid 2019 out of the 413132 crime incidents reported.The next two are Medical Assistance (31557 reported incidents) and Investigate Person (24203 reported incidents).Followed by Other(23252 reported incidents). Interestingly medical assistance,Investigate person and Other decrease over the weekend.Most of the incidents in the data were reported on friday except for Medical assistance (wednesdays) and other (thursdays).Motorvehicle accident response are the most reported incident on all days ,with the lowest number reported on Sundays. Investigate person and Others are the least reported on all days out of the five ,with their highest recordings on Friday and Thursday. In [11]:"
   ]
  },
  {
   "cell_type": "code",
   "execution_count": 3,
   "metadata": {},
   "outputs": [
    {
     "ename": "NameError",
     "evalue": "name 'lastdictdf' is not defined",
     "output_type": "error",
     "traceback": [
      "\u001b[0;31m---------------------------------------------------------------------------\u001b[0m",
      "\u001b[0;31mNameError\u001b[0m                                 Traceback (most recent call last)",
      "\u001b[0;32m<ipython-input-3-9a2fe285cf48>\u001b[0m in \u001b[0;36m<module>\u001b[0;34m()\u001b[0m\n\u001b[0;32m----> 1\u001b[0;31m \u001b[0mlastdictdf\u001b[0m\u001b[0;34m\u001b[0m\u001b[0;34m\u001b[0m\u001b[0m\n\u001b[0m",
      "\u001b[0;31mNameError\u001b[0m: name 'lastdictdf' is not defined"
     ]
    }
   ],
   "source": [
    "lastdictdf"
   ]
  }
 ],
 "metadata": {
  "kernelspec": {
   "display_name": "Python 3",
   "language": "python",
   "name": "python3"
  },
  "language_info": {
   "codemirror_mode": {
    "name": "ipython",
    "version": 3
   },
   "file_extension": ".py",
   "mimetype": "text/x-python",
   "name": "python",
   "nbconvert_exporter": "python",
   "pygments_lexer": "ipython3",
   "version": "3.6.8"
  }
 },
 "nbformat": 4,
 "nbformat_minor": 2
}
